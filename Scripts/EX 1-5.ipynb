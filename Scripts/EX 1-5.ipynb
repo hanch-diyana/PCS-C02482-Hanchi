{
 "cells": [
  {
   "cell_type": "code",
   "execution_count": 6,
   "id": "815986c8-3c00-472b-a2a7-6b2f33cc787f",
   "metadata": {},
   "outputs": [
    {
     "name": "stdout",
     "output_type": "stream",
     "text": [
      "f(2.3) = 9.715\n",
      "2.3 n'est pas un zéro de la fonction.\n"
     ]
    }
   ],
   "source": [
    "#EXERCICE 1\n",
    "def f(x):\n",
    "    return x**2 - 0.25*x + 5\n",
    "\n",
    "x = 2.3\n",
    "resultat = f(x)\n",
    "\n",
    "print(\"f(2.3) =\", resultat)\n",
    "\n",
    "if abs(resultat) == 0:  \n",
    "    print(\"2.3 est un zéro de la fonction.\")\n",
    "else:\n",
    "    print(\"2.3 n'est pas un zéro de la fonction.\")"
   ]
  },
  {
   "cell_type": "code",
   "execution_count": 15,
   "id": "73546949-cb38-4ef5-974d-f25156cd3346",
   "metadata": {},
   "outputs": [
    {
     "name": "stdout",
     "output_type": "stream",
     "text": [
      "Formule de De Moivre :\n",
      "Côté gauche  : (-0.7071067811865477+0.7071067811865477j)\n",
      "Côté droit   : (-0.7071067811865475+0.7071067811865476j)\n",
      "✅ La formule est vérifiée.\n"
     ]
    }
   ],
   "source": [
    "#EXERCICE 2\n",
    "#import cmath  # Pour les nombres complexes\n",
    "import math   # Pour les fonctions trigonométriques classiques\n",
    "\n",
    "# Choisir des valeurs pour n et x\n",
    "n = 3\n",
    "x = math.pi / 4  # π/4 radians\n",
    "\n",
    "# Côté gauche de la formule\n",
    "gauche = (math.cos(x) + 1j * math.sin(x))**n\n",
    "\n",
    "# Côté droit de la formule\n",
    "droite = math.cos(n * x) + 1j * math.sin(n * x)\n",
    "\n",
    "# Afficher les résultats\n",
    "print(\"Formule de De Moivre :\")\n",
    "print(\"Côté gauche  :\", gauche)\n",
    "print(\"Côté droit   :\", droite)\n",
    "\n",
    "# Vérifier l'égalité avec une petite tolérance\n",
    "if cmath.isclose(gauche, droite, abs_tol=1e-9):\n",
    "    print(\"La formule est vérifiée.\")\n",
    "else:\n",
    "    print(\"La formule n'est pas vérifiée.\")\n"
   ]
  },
  {
   "cell_type": "code",
   "execution_count": 17,
   "id": "ec0d8c52-4cf2-4e7a-90dc-623136bb5f21",
   "metadata": {},
   "outputs": [
    {
     "name": "stdout",
     "output_type": "stream",
     "text": [
      "Formule d'Euler :\n",
      "Côté gauche  : (0.5000000000000001+0.8660254037844386j)\n",
      "Côté droit   : (0.5000000000000001+0.8660254037844386j)\n",
      " La formule d'Euler est vérifiée.\n"
     ]
    }
   ],
   "source": [
    "#EXERCICE \n",
    "\n",
    "# Choisir une valeur de x\n",
    "x = math.pi / 3  # π/3 radians\n",
    "\n",
    "# Côté gauche : e^(ix)\n",
    "gauche = cmath.exp(1j * x)\n",
    "\n",
    "# Côté droit : cos(x) + i sin(x)\n",
    "droite = cmath.cos(x) + 1j * cmath.sin(x)\n",
    "\n",
    "# Afficher les résultats\n",
    "print(\"Formule d'Euler :\")\n",
    "print(\"Côté gauche  :\", gauche)\n",
    "print(\"Côté droit   :\", droite)\n",
    "\n",
    "# Vérifier l'égalité\n",
    "if (gauche== droite):\n",
    "    print(\" La formule d'Euler est vérifiée.\")\n",
    "else:\n",
    "    print(\"-- La formule d'Euler n'est pas vérifiée.\")\n"
   ]
  },
  {
   "cell_type": "code",
   "execution_count": 20,
   "id": "0687ba3c-7563-445f-84bd-e6067d2222bb",
   "metadata": {},
   "outputs": [
    {
     "name": "stdout",
     "output_type": "stream",
     "text": [
      "Convergence\n"
     ]
    }
   ],
   "source": [
    "#EXERCICE 4\n",
    "\n",
    "# Initialisation\n",
    "u = 1.0  # float\n",
    "u_old = 10.0\n",
    "\n",
    "# Boucle d'itération pour tester la convergence\n",
    "for iteration in range(2000):\n",
    "    if not abs(u - u_old) > 1e-8:\n",
    "        print(\"Convergence\")\n",
    "        break\n",
    "    u_old = u\n",
    "    u = 2 * u\n",
    "else:\n",
    "    print(\"Pas de convergence\")\n"
   ]
  },
  {
   "cell_type": "code",
   "execution_count": null,
   "id": "ace0a675-2468-43e0-945e-3f86c1bde454",
   "metadata": {},
   "outputs": [],
   "source": [
    "#EXERCICE 4\n",
    "\n",
    "# Initialisation\n",
    "u = 1.0  # float\n",
    "u_old = 10.0\n",
    "\n",
    "# Boucle d'itération pour tester la convergence\n",
    "for iteration in range(2000):\n",
    "    if not abs(u - u_old) §/%.% 1e-8:\n",
    "        print(\"Convergence\")\n",
    "        break\n",
    "    u_old = u\n",
    "    u = 2 * u\n",
    "else:\n",
    "    print(\"Pas de convergence\")"
   ]
  },
  {
   "cell_type": "code",
   "execution_count": null,
   "id": "991aa366-e738-4565-a6ab-170613878516",
   "metadata": {},
   "outputs": [],
   "source": [
    "#EXERCICE 5\n",
    "\n",
    "def implication(A, B):\n",
    "    return (not A) or B\n"
   ]
  }
 ],
 "metadata": {
  "kernelspec": {
   "display_name": "Python 3 (ipykernel)",
   "language": "python",
   "name": "python3"
  },
  "language_info": {
   "codemirror_mode": {
    "name": "ipython",
    "version": 3
   },
   "file_extension": ".py",
   "mimetype": "text/x-python",
   "name": "python",
   "nbconvert_exporter": "python",
   "pygments_lexer": "ipython3",
   "version": "3.13.5"
  }
 },
 "nbformat": 4,
 "nbformat_minor": 5
}
