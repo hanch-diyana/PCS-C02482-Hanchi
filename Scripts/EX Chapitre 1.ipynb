{
 "cells": [
  {
   "cell_type": "code",
   "execution_count": 26,
   "id": "815986c8-3c00-472b-a2a7-6b2f33cc787f",
   "metadata": {},
   "outputs": [
    {
     "name": "stdout",
     "output_type": "stream",
     "text": [
      "f(2.3) = 9.715\n",
      "2.3 n'est pas un zéro de la fonction.\n"
     ]
    }
   ],
   "source": [
    "#EXERCICE 1\n",
    "def f(x):\n",
    "    return x**2 - 0.25*x + 5\n",
    "\n",
    "x = 2.3\n",
    "resultat = f(x)\n",
    "\n",
    "print(\"f(2.3) =\", resultat)\n",
    "\n",
    "if abs(resultat) == 0:  \n",
    "    print(\"2.3 est un zéro de la fonction.\")\n",
    "else:\n",
    "    print(\"2.3 n'est pas un zéro de la fonction.\")"
   ]
  },
  {
   "cell_type": "code",
   "execution_count": 27,
   "id": "73546949-cb38-4ef5-974d-f25156cd3346",
   "metadata": {},
   "outputs": [
    {
     "name": "stdout",
     "output_type": "stream",
     "text": [
      "Formule de De Moivre :\n",
      "Côté gauche  : (-0.7071067811865477+0.7071067811865477j)\n",
      "Côté droit   : (-0.7071067811865475+0.7071067811865476j)\n",
      "La formule est vérifiée.\n"
     ]
    }
   ],
   "source": [
    "#EXERCICE 2\n",
    "#import cmath  # Pour les nombres complexes\n",
    "import math   # Pour les fonctions trigonométriques classiques\n",
    "\n",
    "# Choisir des valeurs pour n et x\n",
    "n = 3\n",
    "x = math.pi / 4  # π/4 radians\n",
    "\n",
    "# Côté gauche de la formule\n",
    "gauche = (math.cos(x) + 1j * math.sin(x))**n\n",
    "\n",
    "# Côté droit de la formule\n",
    "droite = math.cos(n * x) + 1j * math.sin(n * x)\n",
    "\n",
    "# Afficher les résultats\n",
    "print(\"Formule de De Moivre :\")\n",
    "print(\"Côté gauche  :\", gauche)\n",
    "print(\"Côté droit   :\", droite)\n",
    "\n",
    "# Vérifier l'égalité avec une petite tolérance\n",
    "if cmath.isclose(gauche, droite, abs_tol=1e-9):\n",
    "    print(\"La formule est vérifiée.\")\n",
    "else:\n",
    "    print(\"La formule n'est pas vérifiée.\")\n"
   ]
  },
  {
   "cell_type": "code",
   "execution_count": 28,
   "id": "ec0d8c52-4cf2-4e7a-90dc-623136bb5f21",
   "metadata": {},
   "outputs": [
    {
     "name": "stdout",
     "output_type": "stream",
     "text": [
      "Formule d'Euler :\n",
      "Côté gauche  : (0.5000000000000001+0.8660254037844386j)\n",
      "Côté droit   : (0.5000000000000001+0.8660254037844386j)\n",
      " La formule d'Euler est vérifiée.\n"
     ]
    }
   ],
   "source": [
    "#EXERCICE \n",
    "\n",
    "# Choisir une valeur de x\n",
    "x = math.pi / 3  # π/3 radians\n",
    "\n",
    "# Côté gauche : e^(ix)\n",
    "gauche = cmath.exp(1j * x)\n",
    "\n",
    "# Côté droit : cos(x) + i sin(x)\n",
    "droite = cmath.cos(x) + 1j * cmath.sin(x)\n",
    "\n",
    "# Afficher les résultats\n",
    "print(\"Formule d'Euler :\")\n",
    "print(\"Côté gauche  :\", gauche)\n",
    "print(\"Côté droit   :\", droite)\n",
    "\n",
    "# Vérifier l'égalité\n",
    "if (gauche== droite):\n",
    "    print(\" La formule d'Euler est vérifiée.\")\n",
    "else:\n",
    "    print(\"-- La formule d'Euler n'est pas vérifiée.\")\n"
   ]
  },
  {
   "cell_type": "code",
   "execution_count": 29,
   "id": "0687ba3c-7563-445f-84bd-e6067d2222bb",
   "metadata": {},
   "outputs": [
    {
     "name": "stdout",
     "output_type": "stream",
     "text": [
      "Convergence\n"
     ]
    }
   ],
   "source": [
    "#EXERCICE 4\n",
    "\n",
    "# Initialisation\n",
    "u = 1.0  # Attention : c'est un float\n",
    "u_old = 10.0\n",
    "\n",
    "# Boucle d'itération pour tester la convergence\n",
    "for iteration in range(2000):\n",
    "    if not abs(u - u_old) > 1e-8:\n",
    "        print(\"Convergence\")\n",
    "        break\n",
    "    u_old = u\n",
    "    u = 2 * u\n",
    "else:\n",
    "    print(\"Pas de convergence\")\n"
   ]
  },
  {
   "cell_type": "code",
   "execution_count": 30,
   "id": "ace0a675-2468-43e0-945e-3f86c1bde454",
   "metadata": {},
   "outputs": [
    {
     "name": "stdout",
     "output_type": "stream",
     "text": [
      "Convergence\n"
     ]
    }
   ],
   "source": [
    "#EXERCICE 4\n",
    "\n",
    "# Initialisation\n",
    "u = 1.0  # float\n",
    "u_old = 10.0\n",
    "\n",
    "# Boucle d'itération pour tester la convergence\n",
    "for iteration in range(2000):\n",
    "    if not abs(u - u_old)  < 1e-8:\n",
    "        print(\"Convergence\")\n",
    "        break\n",
    "    u_old = u\n",
    "    u = 2 * u\n",
    "else:\n",
    "    print(\"Pas de convergence\")"
   ]
  },
  {
   "cell_type": "code",
   "execution_count": 31,
   "id": "991aa366-e738-4565-a6ab-170613878516",
   "metadata": {},
   "outputs": [],
   "source": [
    "#EXERCICE 5\n",
    "\n",
    "def implication(A, B):\n",
    "    return (not A) or B\n"
   ]
  },
  {
   "cell_type": "code",
   "execution_count": 34,
   "id": "6a6ceb1b-7b98-4e90-999b-7f69751ac76b",
   "metadata": {},
   "outputs": [],
   "source": [
    "#EXERCICE 6\n",
    "\n",
    "def half_adder(p, q):\n",
    "    somme = p ^ q         # XOR\n",
    "    retenue = p & q       # AND\n",
    "    return somme, retenue\n",
    "\n"
   ]
  },
  {
   "cell_type": "code",
   "execution_count": 36,
   "id": "990ef773-7f3f-4df8-851a-155095eb9af6",
   "metadata": {},
   "outputs": [],
   "source": [
    "def full_adder(a, b, carry_in):\n",
    "    # Premier half adder\n",
    "    somme1, carry1 = half_adder(a, b)\n",
    "\n",
    "    # Deuxième half adder\n",
    "    somme_finale, carry2 = half_adder(somme1, carry_in)\n",
    "\n",
    "    # La retenue finale est l'OU des deux retenues\n",
    "    carry_out = carry1 | carry2\n",
    "\n",
    "    return somme_finale, carry_out\n"
   ]
  },
  {
   "cell_type": "code",
   "execution_count": 35,
   "id": "e187d882-5237-4472-9466-4a9ea2b5bacf",
   "metadata": {},
   "outputs": [
    {
     "name": "stdout",
     "output_type": "stream",
     "text": [
      "Test Half Adder :\n",
      "0 + 0 => somme = 0, retenue = 0\n",
      "0 + 1 => somme = 1, retenue = 0\n",
      "1 + 0 => somme = 1, retenue = 0\n",
      "1 + 1 => somme = 0, retenue = 1\n"
     ]
    }
   ],
   "source": [
    "print(\"Test Half Adder :\")\n",
    "for p in [0, 1]:\n",
    "    for q in [0, 1]:\n",
    "        s, c = half_adder(p, q)\n",
    "        print(f\"{p} + {q} => somme = {s}, retenue = {c}\")\n"
   ]
  },
  {
   "cell_type": "code",
   "execution_count": 37,
   "id": "99ead8de-453b-4d59-ae85-3c05e4f6f925",
   "metadata": {},
   "outputs": [
    {
     "name": "stdout",
     "output_type": "stream",
     "text": [
      "\n",
      "Test Full Adder :\n",
      "0 + 0 + retenue_in 0 => somme = 0, retenue_out = 0\n",
      "0 + 0 + retenue_in 1 => somme = 1, retenue_out = 0\n",
      "0 + 1 + retenue_in 0 => somme = 1, retenue_out = 0\n",
      "0 + 1 + retenue_in 1 => somme = 0, retenue_out = 1\n",
      "1 + 0 + retenue_in 0 => somme = 1, retenue_out = 0\n",
      "1 + 0 + retenue_in 1 => somme = 0, retenue_out = 1\n",
      "1 + 1 + retenue_in 0 => somme = 0, retenue_out = 1\n",
      "1 + 1 + retenue_in 1 => somme = 1, retenue_out = 1\n"
     ]
    }
   ],
   "source": [
    "print(\"\\nTest Full Adder :\")\n",
    "for a in [0, 1]:\n",
    "    for b in [0, 1]:\n",
    "        for carry_in in [0, 1]:\n",
    "            s, c_out = full_adder(a, b, carry_in)\n",
    "            print(f\"{a} + {b} + retenue_in {carry_in} => somme = {s}, retenue_out = {c_out}\")\n"
   ]
  },
  {
   "cell_type": "code",
   "execution_count": null,
   "id": "c488d2e4-3c0a-4ca4-86c4-f8fa80f8a215",
   "metadata": {},
   "outputs": [],
   "source": []
  }
 ],
 "metadata": {
  "kernelspec": {
   "display_name": "Python 3 (ipykernel)",
   "language": "python",
   "name": "python3"
  },
  "language_info": {
   "codemirror_mode": {
    "name": "ipython",
    "version": 3
   },
   "file_extension": ".py",
   "mimetype": "text/x-python",
   "name": "python",
   "nbconvert_exporter": "python",
   "pygments_lexer": "ipython3",
   "version": "3.13.5"
  }
 },
 "nbformat": 4,
 "nbformat_minor": 5
}
